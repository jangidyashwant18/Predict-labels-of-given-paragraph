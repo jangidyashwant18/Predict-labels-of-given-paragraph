{
 "cells": [
  {
   "cell_type": "code",
   "execution_count": 5,
   "metadata": {},
   "outputs": [],
   "source": [
    "import numpy as np\n",
    "import pandas as pd\n",
    "import re"
   ]
  },
  {
   "cell_type": "code",
   "execution_count": 22,
   "metadata": {},
   "outputs": [
    {
     "name": "stdout",
     "output_type": "stream",
     "text": [
      "Done with import\n"
     ]
    }
   ],
   "source": [
    "from nltk.corpus import stopwords\n",
    "from nltk.stem import SnowballStemmer\n",
    "import  nltk\n",
    "from sklearn.feature_extraction.text import TfidfVectorizer\n",
    "from sklearn.pipeline import Pipeline\n",
    "from sklearn.svm import LinearSVC\n",
    "from sklearn.model_selection import train_test_split\n",
    "from sklearn.feature_selection import SelectKBest, chi2\n",
    "\n",
    "print(\"Done with import\")\n",
    "#To read data out of the test File"
   ]
  },
  {
   "cell_type": "code",
   "execution_count": 10,
   "metadata": {},
   "outputs": [
    {
     "data": {
      "text/plain": [
       "0    Keep your gloves, hats, coats and jackets toge...\n",
       "1    The Home Dynamix Serendipity Ivory 5 ft. 2 in....\n",
       "2    The Bosch 18-Volt lithium-ion line of Cordless...\n",
       "3    Restore your Porter-Cable sander or polisher t...\n",
       "4    The SPIKECUBE Surge Suppressor from Tripp Lite...\n",
       "Name: text, dtype: object"
      ]
     },
     "execution_count": 10,
     "metadata": {},
     "output_type": "execute_result"
    }
   ],
   "source": [
    "df = pd.read_csv('data/train_data.csv')\n",
    "df['text'].head()"
   ]
  },
  {
   "cell_type": "code",
   "execution_count": null,
   "metadata": {},
   "outputs": [],
   "source": []
  },
  {
   "cell_type": "code",
   "execution_count": 9,
   "metadata": {},
   "outputs": [
    {
     "name": "stdout",
     "output_type": "stream",
     "text": [
      "                                                    text      id\n",
      "16914  Classic architecture meets contemporary design...  100003\n",
      "14666  The Grape Solar 265-Watt Polycrystalline PV So...  100004\n",
      "30728  Achieving delicious results is almost effortle...  100006\n",
      "974    The Quantum Adjustable 2-Light LED Black Emerg...  100007\n",
      "19358  The Teks #10 x 1-1/2 in. Zinc-Plated Steel Was...  100008\n"
     ]
    }
   ],
   "source": [
    "#To sort the dataframe according to the id given\n",
    "sorted_data = df.sort_values(by=['id'],ascending=True)\n",
    "print(sorted_data.head())\n"
   ]
  },
  {
   "cell_type": "code",
   "execution_count": 11,
   "metadata": {},
   "outputs": [
    {
     "name": "stdout",
     "output_type": "stream",
     "text": [
      "                                                text      id\n",
      "0  Classic architecture meets contemporary design...  100003\n",
      "1  The Grape Solar 265-Watt Polycrystalline PV So...  100004\n",
      "2  Achieving delicious results is almost effortle...  100006\n",
      "3  The Quantum Adjustable 2-Light LED Black Emerg...  100007\n",
      "4  The Teks #10 x 1-1/2 in. Zinc-Plated Steel Was...  100008\n",
      "5  Recycler 22 in. Personal Pace Variable Speed S...  100011\n",
      "6  The 96 in. wide Caramel Simple Weave Rollup Ba...  100012\n",
      "7  Backyard X-Scapes, Inc. uses the finest bamboo...  100015\n",
      "8  Make grilling great with this handsome and fun...  100016\n",
      "9  The MD Building Products 36 in. x 36 in. x 1/5...  100017\n"
     ]
    }
   ],
   "source": [
    "sorted_data = sorted_data.reset_index(drop=True)\n",
    "print(sorted_data.head(10))\n"
   ]
  },
  {
   "cell_type": "code",
   "execution_count": 12,
   "metadata": {},
   "outputs": [
    {
     "name": "stdout",
     "output_type": "stream",
     "text": [
      "       id                  label\n",
      "0  100003                  Shape\n",
      "1  100004        Voltage (volts)\n",
      "2  100004        Wattage (watts)\n",
      "3  100006        Wattage (watts)\n",
      "4  100007  ENERGY STAR Certified\n"
     ]
    }
   ],
   "source": [
    "#To read Test labels\n",
    "test_labels = pd.read_csv(\"data/train_label.csv\")\n",
    "print(test_labels.head())\n"
   ]
  },
  {
   "cell_type": "code",
   "execution_count": 13,
   "metadata": {},
   "outputs": [],
   "source": [
    "#To remove duplicate enteries\n",
    "test_labels = test_labels.drop_duplicates(subset =['id'],\\\n",
    "                            keep = 'first')"
   ]
  },
  {
   "cell_type": "code",
   "execution_count": 14,
   "metadata": {},
   "outputs": [
    {
     "name": "stdout",
     "output_type": "stream",
     "text": [
      "        id                  label\n",
      "0   100003                  Shape\n",
      "1   100004        Voltage (volts)\n",
      "3   100006        Wattage (watts)\n",
      "4   100007  ENERGY STAR Certified\n",
      "5   100008                 Finish\n",
      "8   100011               Features\n",
      "10  100012               Features\n",
      "13  100015       Package Quantity\n",
      "14  100016                  Shape\n",
      "15  100017         Indoor/Outdoor\n"
     ]
    }
   ],
   "source": [
    "print(test_labels.head(10))\n"
   ]
  },
  {
   "cell_type": "code",
   "execution_count": 15,
   "metadata": {},
   "outputs": [
    {
     "name": "stdout",
     "output_type": "stream",
     "text": [
      "['Shape', 'Voltage (volts)', 'Wattage (watts)', 'ENERGY STAR Certified', 'Finish', 'Features', 'Package Quantity', 'Indoor/Outdoor', 'Included', 'Color', 'Assembly Required', 'Tools Product Type', 'Hardware Included', 'Commercial / Residential', 'Flooring Product Type']\n"
     ]
    }
   ],
   "source": [
    "#To get the total class labels\n",
    "class_labels =  list(test_labels['label'].unique())\n",
    "print(class_labels)\n"
   ]
  },
  {
   "cell_type": "code",
   "execution_count": 17,
   "metadata": {},
   "outputs": [
    {
     "data": {
      "text/plain": [
       "{'Shape': 0,\n",
       " 'Voltage (volts)': 1,\n",
       " 'Wattage (watts)': 2,\n",
       " 'ENERGY STAR Certified': 3,\n",
       " 'Finish': 4,\n",
       " 'Features': 5,\n",
       " 'Package Quantity': 6,\n",
       " 'Indoor/Outdoor': 7,\n",
       " 'Included': 8,\n",
       " 'Color': 9,\n",
       " 'Assembly Required': 10,\n",
       " 'Tools Product Type': 11,\n",
       " 'Hardware Included': 12,\n",
       " 'Commercial / Residential': 13,\n",
       " 'Flooring Product Type': 14}"
      ]
     },
     "execution_count": 17,
     "metadata": {},
     "output_type": "execute_result"
    }
   ],
   "source": [
    "labels = { k:v for v ,k in enumerate(class_labels) }\n",
    "labels"
   ]
  },
  {
   "cell_type": "code",
   "execution_count": 18,
   "metadata": {},
   "outputs": [
    {
     "name": "stdout",
     "output_type": "stream",
     "text": [
      "        id  label\n",
      "0   100003      0\n",
      "1   100004      1\n",
      "3   100006      2\n",
      "4   100007      3\n",
      "5   100008      4\n",
      "8   100011      5\n",
      "10  100012      5\n",
      "13  100015      6\n",
      "14  100016      0\n",
      "15  100017      7\n"
     ]
    }
   ],
   "source": [
    "#To change the strings with the mappings\n",
    "test_labels = test_labels.replace({'label': labels})\n",
    "print(test_labels.head(10))\n"
   ]
  },
  {
   "cell_type": "code",
   "execution_count": 19,
   "metadata": {},
   "outputs": [
    {
     "name": "stdout",
     "output_type": "stream",
     "text": [
      "                                                text      id  label\n",
      "0  Classic architecture meets contemporary design...  100003      0\n",
      "1  The Grape Solar 265-Watt Polycrystalline PV So...  100004      1\n",
      "2  Achieving delicious results is almost effortle...  100006      2\n",
      "3  The Quantum Adjustable 2-Light LED Black Emerg...  100007      3\n",
      "4  The Teks #10 x 1-1/2 in. Zinc-Plated Steel Was...  100008      4\n",
      "5  Recycler 22 in. Personal Pace Variable Speed S...  100011      5\n",
      "6  The 96 in. wide Caramel Simple Weave Rollup Ba...  100012      5\n",
      "7  Backyard X-Scapes, Inc. uses the finest bamboo...  100015      6\n",
      "8  Make grilling great with this handsome and fun...  100016      0\n",
      "9  The MD Building Products 36 in. x 36 in. x 1/5...  100017      7\n"
     ]
    }
   ],
   "source": [
    "#Need to join these class labels so that only one data frame remains\n",
    "test_labels.index = sorted_data.index\n",
    "cleaned_data = sorted_data.join(test_labels['label'])\n",
    "print(cleaned_data.head(10))"
   ]
  },
  {
   "cell_type": "markdown",
   "metadata": {},
   "source": [
    "# preprocessing\n",
    "\n"
   ]
  },
  {
   "cell_type": "code",
   "execution_count": 25,
   "metadata": {},
   "outputs": [],
   "source": [
    "stemmer = SnowballStemmer('english')\n",
    "words = stopwords.words(\"english\")"
   ]
  },
  {
   "cell_type": "code",
   "execution_count": 24,
   "metadata": {},
   "outputs": [
    {
     "name": "stderr",
     "output_type": "stream",
     "text": [
      "[nltk_data] Downloading package stopwords to\n",
      "[nltk_data]     /Users/yashwantjangid/nltk_data...\n",
      "[nltk_data]   Unzipping corpora/stopwords.zip.\n"
     ]
    },
    {
     "data": {
      "text/plain": [
       "True"
      ]
     },
     "execution_count": 24,
     "metadata": {},
     "output_type": "execute_result"
    }
   ],
   "source": [
    "nltk.download('stopwords')"
   ]
  },
  {
   "cell_type": "code",
   "execution_count": 26,
   "metadata": {},
   "outputs": [
    {
     "name": "stdout",
     "output_type": "stream",
     "text": [
      "0    classic architectur meet contemporari design e...\n",
      "1    the grape solar watt polycrystallin pv solar p...\n",
      "2    achiev delici result almost effortless whirlpo...\n",
      "3    the quantum adjust light led black emerg light...\n",
      "4    the tek x zinc plate steel washer head hex sel...\n",
      "5    recycl person pace variabl speed self propel g...\n",
      "6    the wide caramel simpl weav rollup bamboo shad...\n",
      "7    backyard x scape inc use finest bamboo cane an...\n",
      "8    make grill great handsom function grill gazebo...\n",
      "9    the md build product x x aluminum cloverleaf n...\n",
      "Name: cleaned, dtype: object\n"
     ]
    }
   ],
   "source": [
    "cleaned_data['cleaned'] = cleaned_data['text'].apply( lambda x: \\\n",
    "                           \" \".join([stemmer.stem(i) for i in \\\n",
    "                           re.sub(\"[^a-zA-Z]\",\" \",x).split() \\\n",
    "                           if i not in words]).lower())\n",
    "print(cleaned_data['cleaned'].head(10))\n"
   ]
  },
  {
   "cell_type": "code",
   "execution_count": 28,
   "metadata": {},
   "outputs": [
    {
     "name": "stdout",
     "output_type": "stream",
     "text": [
      "26450    the everbilt heavi duti tee hing ideal surfac ...\n",
      "14045    the h x x return air grill use sidewal ceil op...\n",
      "13781    chamberlain garag door open strong durabl made...\n",
      "35172    this split lock washer provid circular bear su...\n",
      "12955    a meter breaker panel sometim call one combo u...\n",
      "Name: cleaned, dtype: object\n"
     ]
    }
   ],
   "source": [
    "#To split into the train and test samples to get the accuracy of the model\n",
    "# We split the data set into the 20% test size\n",
    "X_train, X_test, y_train, y_test = train_test_split(cleaned_data['cleaned'],\\\n",
    "                            cleaned_data['label'],test_size = 0.2)\n",
    "print(X_train.head())\n"
   ]
  },
  {
   "cell_type": "code",
   "execution_count": 29,
   "metadata": {},
   "outputs": [
    {
     "name": "stdout",
     "output_type": "stream",
     "text": [
      "26450    4\n",
      "14045    9\n",
      "13781    2\n",
      "35172    6\n",
      "12955    7\n",
      "Name: label, dtype: int64\n"
     ]
    }
   ],
   "source": [
    "print(y_train.head())"
   ]
  },
  {
   "cell_type": "code",
   "execution_count": 30,
   "metadata": {},
   "outputs": [],
   "source": [
    "# Now to build model from here\n",
    "\"\"\"We will make use of the three things in the model fitting\n",
    "first--- to make a vectorization or the feature set using the continuous bag\n",
    "         of words by Tf idf vectorization, and too by bigram with ngram rnage(1,2)\n",
    "second-- Need to extract top 10000 features from the gigantic matrix created by the\n",
    "         tfidfvectorization\n",
    "third--- by the selected features learn SVC through it, lasso regularization is used\n",
    "         for better performance\"\"\"\n",
    "\n",
    "pipeline = Pipeline([('vect', TfidfVectorizer(ngram_range = (1,2), stop_words=\\\n",
    "                            \"english\", sublinear_tf = True)), \\\n",
    "                     ('chi', SelectKBest(chi2, k=10000)), \\\n",
    "                     ('clf', LinearSVC(C=1.0, penalty='l1', max_iter = 3000, \\\n",
    "                            dual=False))])"
   ]
  },
  {
   "cell_type": "code",
   "execution_count": 31,
   "metadata": {},
   "outputs": [],
   "source": [
    "model = pipeline.fit(X_train,y_train)\n"
   ]
  },
  {
   "cell_type": "code",
   "execution_count": 32,
   "metadata": {},
   "outputs": [],
   "source": [
    "# To extract top fetaures for each class\n",
    "# its just for the visualization\n",
    "\n",
    "# Need to search more about it\n",
    "vectorizer = model.named_steps['vect']\n",
    "chi = model.named_steps['chi']\n",
    "clf = model.named_steps['clf']"
   ]
  },
  {
   "cell_type": "code",
   "execution_count": 33,
   "metadata": {},
   "outputs": [
    {
     "name": "stdout",
     "output_type": "stream",
     "text": [
      "['ab watersens' 'abil brown' 'abil oven' 'abl stop' 'abl surfac' 'abov'\n",
      " 'abov counter' 'abov grade' 'abov gradeinstal' 'abras']\n"
     ]
    }
   ],
   "source": [
    "feature_names = vectorizer.get_feature_names()\n",
    "feature_names = [ feature_names[i] for i in chi.get_support(indices=True)]\n",
    "feature_names = np.asarray(feature_names)\n",
    "print(feature_names[:10])"
   ]
  },
  {
   "cell_type": "code",
   "execution_count": 34,
   "metadata": {},
   "outputs": [
    {
     "name": "stdout",
     "output_type": "stream",
     "text": [
      "top 10 keywords per class\n",
      " 0 : base set shower rod hot tub wringer rake gazebo mildew weather rais garden cap base net free \n",
      " 1 : bussmann retard shell deliveri check cook odor exid lenmar wire connector continu feed central vacuum bar chain \n",
      " 2 : cook microwav smoke steam sensor cook power level defrost speedcook turntabl watt cook photo eye \n",
      " 3 : fixtur year product humid freezer pendant insul water heater sconc tankless wash cycl \n",
      " 4 : mantel brass base rear mount schlage end panel door mould hardwar design water heater fara \n",
      " 5 : fit window window treatment weather strip low glass pelletv glass block truport tafco creosot halloween \n",
      " 6 : conduit red dot varianc buy guid superstrut halex window box superior grit raco carlon \n",
      " 7 : bait amp space extens cord dap antenna potabl kill readi hang recycl fee trash \n",
      " 8 : apron ship continent locker ft lb storag box installationarchitectur design zephyr peg construct wall plate help click \n",
      " 9 : return air breathabl heater behr coordin hardwood glove line set invest grill select guid vari actual \n",
      " 10 : blower adult tool vaniti headboard medicin mail assembl pit atv trimmer \n",
      " 11 : wear safeti milwauke wear pressur bi metal tool tap die bit welder makita lincoln \n",
      " 12 : yardgard chlorin kleen skylight shower door mirror wood shutter window cover suresil ook \n",
      " 13 : rug dilex fan need rondec spot clean southwir linear fluoresc spout underlay downrod \n",
      " 14 : latex free trowel design tile saw tool packag rubi greenlin qep readi shower turf suntouch \n"
     ]
    }
   ],
   "source": [
    "#Top 10 features or the keywords\n",
    "target_names = [ str(i) for i in range(15)]\n",
    "print(\"top 10 keywords per class\")\n",
    "for i, label in enumerate(target_names):\n",
    "    top10 = np.argsort(clf.coef_[i])[-10:]\n",
    "    print(\" %s : %s \"%(label,\" \".join(feature_names[top10])))\n",
    "\n"
   ]
  },
  {
   "cell_type": "code",
   "execution_count": 35,
   "metadata": {},
   "outputs": [
    {
     "name": "stdout",
     "output_type": "stream",
     "text": [
      "accuracy score: 0.8664902573971615\n",
      "[4]\n"
     ]
    }
   ],
   "source": [
    "print(\"accuracy score: \"+str(model.score(X_test,y_test)))\n",
    "print(model.predict([\"These machine screw nuts are designed to be used with smaller machine screws (under 1/4 in.) and have a hex drive. Used for fastening to a screw when mechanically joining materials together. Must be used with like materials/sized screws. Available in various materials and finishes to suit your application.California residents: see&nbsp\"]))\n",
    "\n"
   ]
  },
  {
   "cell_type": "code",
   "execution_count": 36,
   "metadata": {},
   "outputs": [
    {
     "name": "stdout",
     "output_type": "stream",
     "text": [
      "[ 4 11  6  9  9 11 12  7  7 13]\n"
     ]
    }
   ],
   "source": [
    "# Now to load test data set and get the final readings\n",
    "Test_Set = pd.read_csv(\"data/test_data.csv\")\n",
    "Test_labels = model.predict(Test_Set['text'])\n",
    "print(Test_labels[:10])\n"
   ]
  },
  {
   "cell_type": "code",
   "execution_count": 37,
   "metadata": {},
   "outputs": [
    {
     "name": "stdout",
     "output_type": "stream",
     "text": [
      "{0: 'Shape', 1: 'Voltage (volts)', 2: 'Wattage (watts)', 3: 'ENERGY STAR Certified', 4: 'Finish', 5: 'Features', 6: 'Package Quantity', 7: 'Indoor/Outdoor', 8: 'Included', 9: 'Color', 10: 'Assembly Required', 11: 'Tools Product Type', 12: 'Hardware Included', 13: 'Commercial / Residential', 14: 'Flooring Product Type'}\n"
     ]
    }
   ],
   "source": [
    "mapping = { k: v for k,v in enumerate(class_labels) }\n",
    "print(mapping)"
   ]
  },
  {
   "cell_type": "code",
   "execution_count": 38,
   "metadata": {},
   "outputs": [
    {
     "name": "stdout",
     "output_type": "stream",
     "text": [
      "       id  Indoor/Outdoor  Commercial / Residential  ENERGY STAR Certified  \\\n",
      "0  114689             0.0                       0.0                    0.0   \n",
      "1  183172             0.0                       0.0                    0.0   \n",
      "2  217304             0.0                       0.0                    0.0   \n",
      "3  184115             0.0                       0.0                    0.0   \n",
      "4  103786             0.0                       0.0                    0.0   \n",
      "5  202789             0.0                       0.0                    0.0   \n",
      "6  208062             0.0                       0.0                    0.0   \n",
      "7  177644             0.0                       0.0                    0.0   \n",
      "8  117538             0.0                       0.0                    0.0   \n",
      "9  198085             0.0                       0.0                    0.0   \n",
      "\n",
      "   Hardware Included  Package Quantity  Flooring Product Type  Color  \\\n",
      "0                0.0               0.0                    0.0    0.0   \n",
      "1                0.0               0.0                    0.0    0.0   \n",
      "2                0.0               0.0                    0.0    0.0   \n",
      "3                0.0               0.0                    0.0    0.0   \n",
      "4                0.0               0.0                    0.0    0.0   \n",
      "5                0.0               0.0                    0.0    0.0   \n",
      "6                0.0               0.0                    0.0    0.0   \n",
      "7                0.0               0.0                    0.0    0.0   \n",
      "8                0.0               0.0                    0.0    0.0   \n",
      "9                0.0               0.0                    0.0    0.0   \n",
      "\n",
      "   Tools Product Type  Included  Voltage (volts)  Assembly Required  Features  \\\n",
      "0                 0.0       0.0              0.0                0.0       0.0   \n",
      "1                 0.0       0.0              0.0                0.0       0.0   \n",
      "2                 0.0       0.0              0.0                0.0       0.0   \n",
      "3                 0.0       0.0              0.0                0.0       0.0   \n",
      "4                 0.0       0.0              0.0                0.0       0.0   \n",
      "5                 0.0       0.0              0.0                0.0       0.0   \n",
      "6                 0.0       0.0              0.0                0.0       0.0   \n",
      "7                 0.0       0.0              0.0                0.0       0.0   \n",
      "8                 0.0       0.0              0.0                0.0       0.0   \n",
      "9                 0.0       0.0              0.0                0.0       0.0   \n",
      "\n",
      "   Wattage (watts)  Finish  Shape  \n",
      "0              0.0     0.0    0.0  \n",
      "1              0.0     0.0    0.0  \n",
      "2              0.0     0.0    0.0  \n",
      "3              0.0     0.0    0.0  \n",
      "4              0.0     0.0    0.0  \n",
      "5              0.0     0.0    0.0  \n",
      "6              0.0     0.0    0.0  \n",
      "7              0.0     0.0    0.0  \n",
      "8              0.0     0.0    0.0  \n",
      "9              0.0     0.0    0.0  \n"
     ]
    }
   ],
   "source": [
    "submission_data = pd.read_csv(\"data/sample_submission.csv\")\n",
    "print(submission_data.head(10))"
   ]
  },
  {
   "cell_type": "code",
   "execution_count": 39,
   "metadata": {},
   "outputs": [
    {
     "name": "stdout",
     "output_type": "stream",
     "text": [
      "       id  Indoor/Outdoor  Commercial / Residential  ENERGY STAR Certified  \\\n",
      "0  114689             0.0                       0.0                    0.0   \n",
      "1  183172             0.0                       0.0                    0.0   \n",
      "2  217304             0.0                       0.0                    0.0   \n",
      "3  184115             0.0                       0.0                    0.0   \n",
      "4  103786             0.0                       0.0                    0.0   \n",
      "5  202789             0.0                       0.0                    0.0   \n",
      "6  208062             0.0                       0.0                    0.0   \n",
      "7  177644             1.0                       0.0                    0.0   \n",
      "8  117538             1.0                       0.0                    0.0   \n",
      "9  198085             0.0                       1.0                    0.0   \n",
      "\n",
      "   Hardware Included  Package Quantity  Flooring Product Type  Color  \\\n",
      "0                0.0               0.0                    0.0    0.0   \n",
      "1                0.0               0.0                    0.0    0.0   \n",
      "2                0.0               1.0                    0.0    0.0   \n",
      "3                0.0               0.0                    0.0    1.0   \n",
      "4                0.0               0.0                    0.0    1.0   \n",
      "5                0.0               0.0                    0.0    0.0   \n",
      "6                1.0               0.0                    0.0    0.0   \n",
      "7                0.0               0.0                    0.0    0.0   \n",
      "8                0.0               0.0                    0.0    0.0   \n",
      "9                0.0               0.0                    0.0    0.0   \n",
      "\n",
      "   Tools Product Type  Included  Voltage (volts)  Assembly Required  Features  \\\n",
      "0                 0.0       0.0              0.0                0.0       0.0   \n",
      "1                 1.0       0.0              0.0                0.0       0.0   \n",
      "2                 0.0       0.0              0.0                0.0       0.0   \n",
      "3                 0.0       0.0              0.0                0.0       0.0   \n",
      "4                 0.0       0.0              0.0                0.0       0.0   \n",
      "5                 1.0       0.0              0.0                0.0       0.0   \n",
      "6                 0.0       0.0              0.0                0.0       0.0   \n",
      "7                 0.0       0.0              0.0                0.0       0.0   \n",
      "8                 0.0       0.0              0.0                0.0       0.0   \n",
      "9                 0.0       0.0              0.0                0.0       0.0   \n",
      "\n",
      "   Wattage (watts)  Finish  Shape  \n",
      "0              0.0     1.0    0.0  \n",
      "1              0.0     0.0    0.0  \n",
      "2              0.0     0.0    0.0  \n",
      "3              0.0     0.0    0.0  \n",
      "4              0.0     0.0    0.0  \n",
      "5              0.0     0.0    0.0  \n",
      "6              0.0     0.0    0.0  \n",
      "7              0.0     0.0    0.0  \n",
      "8              0.0     0.0    0.0  \n",
      "9              0.0     0.0    0.0  \n"
     ]
    }
   ],
   "source": [
    "for i in range(len(Test_labels)):\n",
    "    submission_data.at[i,mapping[Test_labels[i]]] = 1\n",
    "\n",
    "print(submission_data.head(10))\n",
    "\n",
    "submission_data.to_csv(\"FinalSubmission.csv\", encoding='utf-8', index=False)"
   ]
  },
  {
   "cell_type": "code",
   "execution_count": null,
   "metadata": {},
   "outputs": [],
   "source": []
  }
 ],
 "metadata": {
  "kernelspec": {
   "display_name": "Python 3",
   "language": "python",
   "name": "python3"
  },
  "language_info": {
   "codemirror_mode": {
    "name": "ipython",
    "version": 3
   },
   "file_extension": ".py",
   "mimetype": "text/x-python",
   "name": "python",
   "nbconvert_exporter": "python",
   "pygments_lexer": "ipython3",
   "version": "3.7.1"
  },
  "toc": {
   "base_numbering": 1,
   "nav_menu": {},
   "number_sections": true,
   "sideBar": true,
   "skip_h1_title": false,
   "title_cell": "Table of Contents",
   "title_sidebar": "Contents",
   "toc_cell": false,
   "toc_position": {},
   "toc_section_display": true,
   "toc_window_display": false
  }
 },
 "nbformat": 4,
 "nbformat_minor": 2
}
